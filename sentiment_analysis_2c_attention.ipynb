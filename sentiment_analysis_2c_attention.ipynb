{
 "cells": [
  {
   "cell_type": "code",
   "execution_count": 1,
   "metadata": {},
   "outputs": [],
   "source": [
    "import numpy as np\n",
    "import pandas as pd\n",
    "import matplotlib.pyplot as plt\n",
    "from sklearn.preprocessing import LabelEncoder\n",
    "from sklearn.metrics import confusion_matrix\n",
    "from sklearn.model_selection import train_test_split\n",
    "\n",
    "from gensim.models import KeyedVectors\n",
    "from nltk.tokenize import RegexpTokenizer\n",
    "from nltk.corpus import stopwords\n",
    "\n",
    "import keras.backend as K\n",
    "from keras.utils import to_categorical\n",
    "from keras.models import Sequential\n",
    "from keras.layers import *"
   ]
  },
  {
   "cell_type": "code",
   "execution_count": 2,
   "metadata": {},
   "outputs": [],
   "source": [
    "# Import tweets and sentiment data\n",
    "\n",
    "dataset = pd.read_excel('sample_tweets.xlsx')[['SentimentText','Sentiment']]\n",
    "dataset = dataset[dataset['Sentiment'] != 'Neutral']\n",
    "\n",
    "tweets = dataset['SentimentText'].values\n",
    "sent = dataset['Sentiment'].values"
   ]
  },
  {
   "cell_type": "code",
   "execution_count": 3,
   "metadata": {},
   "outputs": [
    {
     "name": "stdout",
     "output_type": "stream",
     "text": [
      "#gstnfailed @nsitharaman .. Such a bold step.. Made by extending 3 days.. Now v know.. V should never vote & give majority to @BJP4India @PMOIndia .. Such a foolish step.. Really saddened to know.. Dat u don't understand d stress. of GST professionals.. Negative\n"
     ]
    }
   ],
   "source": [
    "print(tweets[0], sent[0])"
   ]
  },
  {
   "cell_type": "code",
   "execution_count": 4,
   "metadata": {},
   "outputs": [],
   "source": [
    "# Create embedding_vector for each word using Word2Vec\n",
    "\n",
    "word2vec = KeyedVectors.load_word2vec_format('./GoogleNews-vectors-negative300.bin', binary=True)"
   ]
  },
  {
   "cell_type": "code",
   "execution_count": 5,
   "metadata": {},
   "outputs": [
    {
     "name": "stdout",
     "output_type": "stream",
     "text": [
      "[ 0.13085938  0.00842285  0.03344727 -0.05883789  0.04003906 -0.14257812\n",
      "  0.04931641 -0.16894531  0.20898438  0.11962891  0.18066406 -0.25\n",
      " -0.10400391 -0.10742188 -0.01879883  0.05200195 -0.00216675  0.06445312\n",
      "  0.14453125 -0.04541016  0.16113281 -0.01611328 -0.03088379  0.08447266\n",
      "  0.16210938  0.04467773 -0.15527344  0.25390625  0.33984375  0.00756836\n",
      " -0.25585938 -0.01733398 -0.03295898  0.16308594 -0.12597656 -0.09912109\n",
      "  0.16503906  0.06884766 -0.18945312  0.02832031 -0.0534668  -0.03063965\n",
      "  0.11083984  0.24121094 -0.234375    0.12353516 -0.00294495  0.1484375\n",
      "  0.33203125  0.05249023 -0.20019531  0.37695312  0.12255859  0.11425781\n",
      " -0.17675781  0.10009766  0.0030365   0.26757812  0.20117188  0.03710938\n",
      "  0.11083984 -0.09814453 -0.3125      0.03515625  0.02832031  0.26171875\n",
      " -0.08642578 -0.02258301 -0.05834961 -0.00787354  0.11767578 -0.04296875\n",
      " -0.17285156  0.04394531 -0.23046875  0.1640625  -0.11474609 -0.06030273\n",
      "  0.01196289 -0.24707031  0.32617188 -0.04492188 -0.11425781  0.22851562\n",
      " -0.01647949 -0.15039062 -0.13183594  0.12597656 -0.17480469  0.02209473\n",
      " -0.1015625   0.00817871  0.10791016 -0.24609375 -0.109375   -0.09375\n",
      " -0.01623535 -0.20214844  0.23144531 -0.05444336 -0.05541992 -0.20898438\n",
      "  0.26757812  0.27929688  0.17089844 -0.17578125 -0.02770996 -0.20410156\n",
      "  0.02392578  0.03125    -0.25390625 -0.125      -0.05493164 -0.17382812\n",
      "  0.28515625 -0.23242188  0.0234375  -0.20117188 -0.13476562  0.26367188\n",
      "  0.00769043  0.20507812 -0.01708984 -0.12988281  0.04711914  0.22070312\n",
      "  0.02099609 -0.29101562 -0.02893066  0.17285156  0.04272461 -0.19824219\n",
      " -0.04003906 -0.16992188  0.10058594 -0.09326172  0.15820312 -0.16503906\n",
      " -0.06054688  0.19433594 -0.07080078 -0.06884766 -0.09619141 -0.07226562\n",
      "  0.04882812  0.07324219  0.11035156  0.04858398 -0.17675781 -0.33789062\n",
      "  0.22558594  0.16308594  0.05102539 -0.08251953  0.07958984  0.08740234\n",
      " -0.16894531 -0.02160645 -0.19238281  0.03857422 -0.05102539  0.21972656\n",
      "  0.08007812 -0.21191406 -0.07519531 -0.15039062  0.3046875  -0.17089844\n",
      "  0.12353516 -0.234375   -0.10742188 -0.06787109  0.01904297 -0.14160156\n",
      " -0.22753906 -0.16308594  0.14453125 -0.15136719 -0.296875    0.22363281\n",
      " -0.10205078 -0.0456543  -0.21679688 -0.09033203  0.09375    -0.15332031\n",
      " -0.01550293  0.3046875  -0.23730469  0.08935547  0.03710938  0.02941895\n",
      " -0.28515625  0.15820312 -0.00306702  0.06054688  0.00497437 -0.15234375\n",
      " -0.00836182  0.02197266 -0.12109375 -0.13867188 -0.2734375  -0.06835938\n",
      "  0.08251953 -0.26367188 -0.16992188  0.14746094  0.08496094  0.02075195\n",
      "  0.13671875 -0.04931641 -0.0100708  -0.00369263 -0.10839844  0.14746094\n",
      " -0.15527344  0.16113281  0.05615234 -0.05004883 -0.1640625  -0.26953125\n",
      "  0.4140625   0.06079102 -0.046875   -0.02514648  0.10595703  0.1328125\n",
      " -0.16699219 -0.04907227  0.04663086  0.05151367 -0.07958984 -0.16503906\n",
      " -0.29882812  0.06054688 -0.15332031 -0.00598145  0.06640625 -0.04516602\n",
      "  0.24316406 -0.07080078 -0.36914062 -0.23144531 -0.11914062 -0.08300781\n",
      "  0.14746094 -0.05761719  0.23535156 -0.12304688  0.14648438  0.13671875\n",
      "  0.15429688  0.02111816 -0.09570312  0.05859375  0.03979492 -0.08105469\n",
      "  0.0559082  -0.16601562  0.27148438 -0.20117188 -0.00915527  0.07324219\n",
      "  0.10449219  0.34570312 -0.26367188  0.02099609 -0.40039062 -0.03417969\n",
      " -0.15917969 -0.08789062  0.08203125  0.23339844  0.0213623  -0.11328125\n",
      "  0.05249023 -0.10449219 -0.02380371 -0.08349609 -0.04003906  0.01916504\n",
      " -0.01226807 -0.18261719 -0.06787109 -0.08496094 -0.03039551 -0.05395508\n",
      "  0.04248047  0.12792969 -0.27539062  0.28515625 -0.04736328  0.06494141\n",
      " -0.11230469 -0.02575684 -0.04125977  0.22851562 -0.14941406 -0.15039062]\n"
     ]
    }
   ],
   "source": [
    "emb_dim = 300\n",
    "print(word2vec['car'])"
   ]
  },
  {
   "cell_type": "code",
   "execution_count": 6,
   "metadata": {},
   "outputs": [],
   "source": [
    "# create weight matrix for embedding layer and convert tweets data\n",
    "\n",
    "word_to_idx = dict()\n",
    "ind = 0\n",
    "wt_mat = []\n",
    "X = []\n",
    "re = RegexpTokenizer('[a-z]+')\n",
    "sw = stopwords.words('english')\n",
    "\n",
    "wt_mat.append(np.zeros(300))\n",
    "for i in range(tweets.shape[0]):\n",
    "    word = re.tokenize(tweets[i].lower())\n",
    "    \n",
    "    vec = np.zeros(50)\n",
    "    for j in range(min(len(word), 50)):\n",
    "        w = word[j]\n",
    "        if w in sw or len(w) < 3 or w not in word2vec:\n",
    "            continue\n",
    "        if w not in word_to_idx:\n",
    "            ind += 1\n",
    "            word_to_idx[w] = ind\n",
    "            wt_mat.append(word2vec[w])\n",
    "        \n",
    "        vec[j] = word_to_idx[w]\n",
    "        j += 1\n",
    "    X.append(vec)\n",
    "\n",
    "X = np.array(X)\n",
    "wt_mat = np.array(wt_mat)"
   ]
  },
  {
   "cell_type": "code",
   "execution_count": 7,
   "metadata": {},
   "outputs": [
    {
     "name": "stdout",
     "output_type": "stream",
     "text": [
      "(3999, 300)\n"
     ]
    }
   ],
   "source": [
    "print(wt_mat.shape)"
   ]
  },
  {
   "cell_type": "code",
   "execution_count": 8,
   "metadata": {},
   "outputs": [
    {
     "name": "stdout",
     "output_type": "stream",
     "text": [
      "(5686, 50) (1422,)\n"
     ]
    }
   ],
   "source": [
    "# prepare training and test data\n",
    "\n",
    "le = LabelEncoder()\n",
    "y = le.fit_transform(sent)\n",
    "\n",
    "X_train, X_test, y_train, y_test = train_test_split(X, y, test_size=0.2, random_state=42, shuffle=True)\n",
    "print(X_train.shape, y_test.shape)"
   ]
  },
  {
   "cell_type": "code",
   "execution_count": 9,
   "metadata": {},
   "outputs": [
    {
     "name": "stdout",
     "output_type": "stream",
     "text": [
      "[  0.   0.  12.   0. 492.   0.   0. 305.   0.   0.  69.   0.  12.   0.\n",
      "   0.   0.   0.   0.   0.   0.   0.   0.   0.   0.   0.   0.   0.   0.\n",
      "   0.   0.   0.   0.   0.   0.   0.   0.   0.   0.   0.   0.   0.   0.\n",
      "   0.   0.   0.   0.   0.   0.   0.   0.] 0\n"
     ]
    }
   ],
   "source": [
    "print(X_train[0], y_train[0])"
   ]
  },
  {
   "cell_type": "code",
   "execution_count": 10,
   "metadata": {},
   "outputs": [],
   "source": [
    "# Custom Attention Layer\n",
    "\n",
    "class attention(Layer):\n",
    "    def __init__(self,**kwargs):\n",
    "        super(attention,self).__init__(**kwargs)\n",
    "\n",
    "    def build(self,input_shape):\n",
    "        self.W = self.add_weight(name=\"att_weight\", shape=(input_shape[-1],1), initializer=\"normal\")\n",
    "        self.b = self.add_weight(name=\"att_bias\", shape=(input_shape[1],1), initializer=\"zeros\")        \n",
    "        super(attention, self).build(input_shape)\n",
    "\n",
    "    def call(self,x):\n",
    "        et = K.squeeze(K.tanh(K.dot(x, self.W) + self.b), axis=-1)\n",
    "        at = K.softmax(et)\n",
    "        at = K.expand_dims(at, axis=-1)\n",
    "        output = x*at\n",
    "        return K.sum(output, axis=1)\n",
    "\n",
    "    def compute_output_shape(self,input_shape):\n",
    "        return (input_shape[0], input_shape[-1])\n",
    "\n",
    "    def get_config(self):\n",
    "        return super(attention, self).get_config()"
   ]
  },
  {
   "cell_type": "code",
   "execution_count": 11,
   "metadata": {},
   "outputs": [
    {
     "name": "stdout",
     "output_type": "stream",
     "text": [
      "Model: \"sequential\"\n",
      "_________________________________________________________________\n",
      "Layer (type)                 Output Shape              Param #   \n",
      "=================================================================\n",
      "embedding (Embedding)        (None, 50, 300)           1199700   \n",
      "_________________________________________________________________\n",
      "lstm (LSTM)                  (None, 50, 32)            42624     \n",
      "_________________________________________________________________\n",
      "dropout (Dropout)            (None, 50, 32)            0         \n",
      "_________________________________________________________________\n",
      "attention (attention)        (None, 32)                82        \n",
      "_________________________________________________________________\n",
      "dropout_1 (Dropout)          (None, 32)                0         \n",
      "_________________________________________________________________\n",
      "dense (Dense)                (None, 1)                 33        \n",
      "=================================================================\n",
      "Total params: 1,242,439\n",
      "Trainable params: 42,739\n",
      "Non-trainable params: 1,199,700\n",
      "_________________________________________________________________\n"
     ]
    }
   ],
   "source": [
    "# Create model with LSTM and Attention Layer\n",
    "\n",
    "model = Sequential()\n",
    "model.add(Embedding(wt_mat.shape[0], emb_dim, mask_zero=True, weights=[wt_mat], input_length=50, trainable=False))\n",
    "model.add(LSTM(32, return_sequences=True))\n",
    "model.add(Dropout(0.25))\n",
    "model.add(attention())\n",
    "model.add(Dropout(0.2))\n",
    "model.add(Dense(1, activation='sigmoid'))\n",
    "\n",
    "model.compile(optimizer='adam', loss='binary_crossentropy', metrics=['acc'])\n",
    "model.summary()"
   ]
  },
  {
   "cell_type": "code",
   "execution_count": 12,
   "metadata": {},
   "outputs": [
    {
     "name": "stdout",
     "output_type": "stream",
     "text": [
      "Epoch 1/10\n",
      "143/143 [==============================] - 5s 37ms/step - loss: 0.2589 - acc: 0.9237 - val_loss: 0.1787 - val_acc: 0.9359\n",
      "Epoch 2/10\n",
      "143/143 [==============================] - 4s 29ms/step - loss: 0.1450 - acc: 0.9569 - val_loss: 0.1521 - val_acc: 0.9569\n",
      "Epoch 3/10\n",
      "143/143 [==============================] - 5s 35ms/step - loss: 0.1164 - acc: 0.9668 - val_loss: 0.1179 - val_acc: 0.9596\n",
      "Epoch 4/10\n",
      "143/143 [==============================] - 5s 33ms/step - loss: 0.1005 - acc: 0.9670 - val_loss: 0.1201 - val_acc: 0.9613\n",
      "Epoch 5/10\n",
      "143/143 [==============================] - 5s 33ms/step - loss: 0.0840 - acc: 0.9743 - val_loss: 0.1080 - val_acc: 0.9675\n",
      "Epoch 6/10\n",
      "143/143 [==============================] - 10s 70ms/step - loss: 0.0759 - acc: 0.9767 - val_loss: 0.1073 - val_acc: 0.9622\n",
      "Epoch 7/10\n",
      "143/143 [==============================] - 7s 50ms/step - loss: 0.0653 - acc: 0.9798 - val_loss: 0.0956 - val_acc: 0.9736\n",
      "Epoch 8/10\n",
      "143/143 [==============================] - 6s 45ms/step - loss: 0.0539 - acc: 0.9824 - val_loss: 0.0908 - val_acc: 0.9736\n",
      "Epoch 9/10\n",
      "143/143 [==============================] - 5s 37ms/step - loss: 0.0509 - acc: 0.9833 - val_loss: 0.0974 - val_acc: 0.9754\n",
      "Epoch 10/10\n",
      "143/143 [==============================] - 5s 32ms/step - loss: 0.0435 - acc: 0.9857 - val_loss: 0.1002 - val_acc: 0.9754\n"
     ]
    }
   ],
   "source": [
    "# Train model\n",
    "\n",
    "hist = model.fit(X_train, y_train, validation_split=0.2, epochs=10, batch_size=32)"
   ]
  },
  {
   "cell_type": "code",
   "execution_count": 13,
   "metadata": {},
   "outputs": [
    {
     "data": {
      "image/png": "[encoded data removed]",
      "text/plain": [
       "<Figure size 432x288 with 1 Axes>"
      ]
     },
     "metadata": {
      "needs_background": "light"
     },
     "output_type": "display_data"
    }
   ],
   "source": [
    "plt.plot(hist.history['acc'], color='b')\n",
    "plt.plot(hist.history['val_acc'], color='g')\n",
    "plt.show()"
   ]
  },
  {
   "cell_type": "code",
   "execution_count": 14,
   "metadata": {},
   "outputs": [
    {
     "name": "stdout",
     "output_type": "stream",
     "text": [
      "(178,)\n",
      "(array([0, 1]), array([89, 89], dtype=int64))\n"
     ]
    }
   ],
   "source": [
    "# Get Equal Positive and negative class data for testing\n",
    "\n",
    "n = min(np.unique(y_test, return_counts = True)[1])\n",
    "n0 = n1 = 0\n",
    "idx = []\n",
    "\n",
    "for ix in range(y_test.shape[0]):\n",
    "    if y_test[ix] == 0 and n0 < n:\n",
    "        idx.append(ix)\n",
    "        n0 += 1\n",
    "    if y_test[ix] == 1 and n1 < n:\n",
    "        idx.append(ix)\n",
    "        n1 += 1\n",
    "\n",
    "idx = np.array(idx)\n",
    "print(idx.shape)\n",
    "\n",
    "X_test2 = X_test[idx]\n",
    "y_test2 = y_test[idx]\n",
    "print(np.unique(y_test2, return_counts = True))"
   ]
  },
  {
   "cell_type": "code",
   "execution_count": 16,
   "metadata": {},
   "outputs": [
    {
     "name": "stdout",
     "output_type": "stream",
     "text": [
      "['Negative' 'Positive']\n",
      "[[88 27]\n",
      " [ 1 62]]\n"
     ]
    }
   ],
   "source": [
    "print(le.inverse_transform([0, 1]))\n",
    "\n",
    "y_pred = model.predict_classes(X_test2)\n",
    "print(confusion_matrix(y_pred, y_test2))"
   ]
  },
  {
   "cell_type": "code",
   "execution_count": null,
   "metadata": {},
   "outputs": [],
   "source": []
  },
  {
   "cell_type": "code",
   "execution_count": null,
   "metadata": {},
   "outputs": [],
   "source": []
  }
 ],
 "metadata": {
  "kernelspec": {
   "display_name": "Python 3",
   "language": "python",
   "name": "python3"
  },
  "language_info": {
   "codemirror_mode": {
    "name": "ipython",
    "version": 3
   },
   "file_extension": ".py",
   "mimetype": "text/x-python",
   "name": "python",
   "nbconvert_exporter": "python",
   "pygments_lexer": "ipython3",
   "version": "3.7.6"
  }
 },
 "nbformat": 4,
 "nbformat_minor": 4
}
