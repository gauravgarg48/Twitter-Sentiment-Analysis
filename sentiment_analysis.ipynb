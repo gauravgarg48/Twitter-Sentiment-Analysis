{
 "cells": [
  {
   "cell_type": "code",
   "execution_count": 1,
   "metadata": {},
   "outputs": [],
   "source": [
    "import numpy as np\n",
    "import matplotlib.pyplot as plt\n",
    "import pandas as pd\n",
    "from collections import Counter\n",
    "from sklearn.preprocessing import LabelEncoder\n",
    "\n",
    "from nltk.tokenize import RegexpTokenizer\n",
    "from nltk.corpus import stopwords\n",
    "\n",
    "from keras.utils import to_categorical\n",
    "from keras.models import Sequential\n",
    "from keras.layers import *\n",
    "from keras.preprocessing.sequence import pad_sequences"
   ]
  },
  {
   "cell_type": "code",
   "execution_count": 2,
   "metadata": {},
   "outputs": [],
   "source": [
    "# Import tweets and sentiment data\n",
    "\n",
    "dataset = pd.read_excel('sample_tweets.xlsx')\n",
    "tweets = dataset['SentimentText'].values\n",
    "sent = dataset['Sentiment'].values"
   ]
  },
  {
   "cell_type": "code",
   "execution_count": 3,
   "metadata": {},
   "outputs": [
    {
     "data": {
      "text/plain": [
       "\"#gstnfailed @nsitharaman .. Such a bold step.. Made by extending 3 days.. Now v know.. V should never vote & give majority to @BJP4India @PMOIndia .. Such a foolish step.. Really saddened to know.. Dat u don't understand d stress. of GST professionals..\""
      ]
     },
     "execution_count": 3,
     "metadata": {},
     "output_type": "execute_result"
    }
   ],
   "source": [
    "tweets[0]"
   ]
  },
  {
   "cell_type": "code",
   "execution_count": 32,
   "metadata": {},
   "outputs": [
    {
     "name": "stdout",
     "output_type": "stream",
     "text": [
      "[ 0.47685  -0.084552  1.4641    0.047017  0.14686   0.5082   -1.2228\n",
      " -0.22607   0.19306  -0.29756   0.20599  -0.71284  -1.6288    0.17096\n",
      "  0.74797  -0.061943 -0.65766   1.3786   -0.68043  -1.7551    0.58319\n",
      "  0.25157  -1.2114    0.81343   0.094825 -1.6819   -0.64498   0.6322\n",
      "  1.1211    0.16112   2.5379    0.24852  -0.26816   0.32818   1.2916\n",
      "  0.23548   0.61465  -0.1344   -0.13237   0.27398  -0.11821   0.1354\n",
      "  0.074306 -0.61951   0.45472  -0.30318  -0.21883  -0.56054   1.1177\n",
      " -0.36595 ]\n"
     ]
    }
   ],
   "source": [
    "# Create emedding_vector for each word from Glove\n",
    "\n",
    "f = open(\"glove.6B.50d.txt\", encoding=\"utf-8\")\n",
    "glove_emb = {}\n",
    "for line in f:\n",
    "    arr = line.split()\n",
    "    word = arr[0]\n",
    "    vect = np.asarray(arr[1:], dtype=\"float\")\n",
    "    glove_emb[word] = vect\n",
    "\n",
    "f.close()\n",
    "print(glove_emb['car'])"
   ]
  },
  {
   "cell_type": "code",
   "execution_count": 33,
   "metadata": {},
   "outputs": [
    {
     "name": "stdout",
     "output_type": "stream",
     "text": [
      "['gstnfailed', 'nsitharaman', 'bold', 'step', 'made', 'extending', 'days', 'know', 'never', 'vote', 'give', 'majority', 'bjp', 'india', 'pmoindia', 'foolish', 'step', 'really', 'saddened', 'know', 'dat', 'understand', 'stress', 'gst', 'professionals']\n"
     ]
    }
   ],
   "source": [
    "print(myTokenizer(tweets[0]))"
   ]
  },
  {
   "cell_type": "code",
   "execution_count": 34,
   "metadata": {},
   "outputs": [],
   "source": [
    "re = RegexpTokenizer(\"[a-zA-Z]+\")\n",
    "sw = stopwords.words(\"english\")"
   ]
  },
  {
   "cell_type": "code",
   "execution_count": 35,
   "metadata": {},
   "outputs": [],
   "source": [
    "unique_vocab = {}\n",
    "\n",
    "weight = []\n",
    "k=1;\n",
    "X = tweets\n",
    "X_train = np.zeros((10000, 50))\n",
    "\n",
    "for i in range(X.shape[0]):\n",
    "    words = re.tokenize(X[i])\n",
    "    words = [w for w in words if w not in sw]\n",
    "    \n",
    "    for j in range(min(len(words), 50)):\n",
    "        if words[j].lower() in unique_vocab:\n",
    "            X_train[i][j] = unique_vocab[words[j].lower()]\n",
    "            \n",
    "        elif words[j] in glove_emb:\n",
    "            weight.append(glove_emb[words[j]])\n",
    "            X_train[i][j] = k\n",
    "            unique_vocab[words[j].lower()] = k\n",
    "            k += 1"
   ]
  },
  {
   "cell_type": "code",
   "execution_count": 36,
   "metadata": {},
   "outputs": [
    {
     "data": {
      "text/plain": [
       "array([ 0.,  0.,  0.,  1.,  2.,  0.,  3.,  4.,  0.,  5.,  6.,  5.,  7.,\n",
       "        8.,  9., 10.,  0.,  0.,  0.,  0., 11.,  2.,  0., 12.,  6.,  0.,\n",
       "       13., 14., 15.,  0., 16.,  0.,  0.,  0.,  0.,  0.,  0.,  0.,  0.,\n",
       "        0.,  0.,  0.,  0.,  0.,  0.,  0.,  0.,  0.,  0.,  0.])"
      ]
     },
     "execution_count": 36,
     "metadata": {},
     "output_type": "execute_result"
    }
   ],
   "source": [
    "X_train[0]"
   ]
  },
  {
   "cell_type": "code",
   "execution_count": 37,
   "metadata": {},
   "outputs": [],
   "source": [
    "wt_mat = [np.zeros((50,))] + weight\n",
    "wt_mat = np.array(wt_mat)"
   ]
  },
  {
   "cell_type": "code",
   "execution_count": 38,
   "metadata": {},
   "outputs": [
    {
     "name": "stdout",
     "output_type": "stream",
     "text": [
      "(4377, 50)\n"
     ]
    }
   ],
   "source": [
    "print(wt_mat.shape)"
   ]
  },
  {
   "cell_type": "code",
   "execution_count": 39,
   "metadata": {
    "scrolled": true
   },
   "outputs": [],
   "source": [
    "le=LabelEncoder()\n",
    "y_enc = le.fit_transform(sent)\n",
    "\n",
    "Y = to_categorical(y_enc)"
   ]
  },
  {
   "cell_type": "code",
   "execution_count": 40,
   "metadata": {},
   "outputs": [
    {
     "name": "stdout",
     "output_type": "stream",
     "text": [
      "[ 0.  0.  0.  0.  0. 17. 18. 19. 20.  0.  0.  0.  0. 21.  0.  0.  0. 22.\n",
      " 23. 18. 24. 25. 26.  0. 27.  0. 28.  0.  0. 29. 30. 31. 32. 33.  0.  0.\n",
      "  0.  0.  0.  0.  0.  0.  0.  0.  0.  0.  0.  0.  0.  0.] [0. 1. 0.]\n"
     ]
    }
   ],
   "source": [
    "print(X_train[1], Y[1])"
   ]
  },
  {
   "cell_type": "code",
   "execution_count": 41,
   "metadata": {},
   "outputs": [
    {
     "name": "stdout",
     "output_type": "stream",
     "text": [
      "Model: \"sequential\"\n",
      "_________________________________________________________________\n",
      "Layer (type)                 Output Shape              Param #   \n",
      "=================================================================\n",
      "embedding (Embedding)        (None, 50, 50)            218850    \n",
      "_________________________________________________________________\n",
      "lstm (LSTM)                  (None, 50, 32)            10624     \n",
      "_________________________________________________________________\n",
      "dropout (Dropout)            (None, 50, 32)            0         \n",
      "_________________________________________________________________\n",
      "lstm_1 (LSTM)                (None, 32)                8320      \n",
      "_________________________________________________________________\n",
      "dropout_1 (Dropout)          (None, 32)                0         \n",
      "_________________________________________________________________\n",
      "dense (Dense)                (None, 3)                 99        \n",
      "=================================================================\n",
      "Total params: 237,893\n",
      "Trainable params: 19,043\n",
      "Non-trainable params: 218,850\n",
      "_________________________________________________________________\n"
     ]
    }
   ],
   "source": [
    "# Create LSTM model\n",
    "\n",
    "model = Sequential()\n",
    "model.add(Embedding(4377, 50, mask_zero=True, weights=[wt_mat], input_length=50, trainable=False))\n",
    "model.add(LSTM(32, return_sequences=True, activation='relu'))\n",
    "model.add(Dropout(0.25))\n",
    "model.add(LSTM(32, activation='relu'))\n",
    "model.add(Dropout(0.2))\n",
    "model.add(Dense(3, activation='softmax'))\n",
    "\n",
    "model.compile(optimizer='adam', loss='categorical_crossentropy', metrics=['acc'])\n",
    "model.summary()"
   ]
  },
  {
   "cell_type": "code",
   "execution_count": null,
   "metadata": {},
   "outputs": [],
   "source": [
    "# Train model\n",
    "\n",
    "hist = model.fit(X_train, Y, validation_split=0.2, epochs=10, batch_size=32)"
   ]
  },
  {
   "cell_type": "code",
   "execution_count": null,
   "metadata": {},
   "outputs": [],
   "source": [
    "plt.plot(hist.history['acc'], r='b')\n",
    "plt.plot(hist.history['val_acc'], r='g')\n",
    "plt.show()\n",
    "\n",
    "# Make predictions\n",
    "\n",
    "for ix in range(5):\n",
    "    p = model.predict(X[ix])\n",
    "    print(X[ix], le.inverse_transform(p))"
   ]
  },
  {
   "cell_type": "code",
   "execution_count": null,
   "metadata": {},
   "outputs": [],
   "source": []
  },
  {
   "cell_type": "code",
   "execution_count": null,
   "metadata": {},
   "outputs": [],
   "source": []
  },
  {
   "cell_type": "code",
   "execution_count": null,
   "metadata": {},
   "outputs": [],
   "source": []
  }
 ],
 "metadata": {
  "kernelspec": {
   "display_name": "Python 3",
   "language": "python",
   "name": "python3"
  },
  "language_info": {
   "codemirror_mode": {
    "name": "ipython",
    "version": 3
   },
   "file_extension": ".py",
   "mimetype": "text/x-python",
   "name": "python",
   "nbconvert_exporter": "python",
   "pygments_lexer": "ipython3",
   "version": "3.7.6"
  }
 },
 "nbformat": 4,
 "nbformat_minor": 4
}
