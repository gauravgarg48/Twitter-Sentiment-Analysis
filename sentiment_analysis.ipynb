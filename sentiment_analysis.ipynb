{
 "cells": [
  {
   "cell_type": "code",
   "execution_count": 1,
   "metadata": {},
   "outputs": [],
   "source": [
    "import numpy as np\n",
    "import matplotlib.pyplot as plt\n",
    "import pandas as pd\n",
    "from collections import Counter\n",
    "from sklearn.preprocessing import LabelEncoder\n",
    "from sklearn.metrics import confusion_matrix\n",
    "\n",
    "from nltk.tokenize import RegexpTokenizer\n",
    "from nltk.corpus import stopwords\n",
    "\n",
    "from keras.utils import to_categorical\n",
    "from keras.models import Sequential\n",
    "from keras.layers import *\n",
    "from keras.preprocessing.sequence import pad_sequences"
   ]
  },
  {
   "cell_type": "code",
   "execution_count": 2,
   "metadata": {},
   "outputs": [],
   "source": [
    "# Import tweets and sentiment data\n",
    "\n",
    "dataset = pd.read_excel('sample_tweets.xlsx')\n",
    "tweets = dataset['SentimentText'].values\n",
    "sent = dataset['Sentiment'].values"
   ]
  },
  {
   "cell_type": "code",
   "execution_count": 3,
   "metadata": {},
   "outputs": [
    {
     "data": {
      "text/plain": [
       "\"#gstnfailed @nsitharaman .. Such a bold step.. Made by extending 3 days.. Now v know.. V should never vote & give majority to @BJP4India @PMOIndia .. Such a foolish step.. Really saddened to know.. Dat u don't understand d stress. of GST professionals..\""
      ]
     },
     "execution_count": 3,
     "metadata": {},
     "output_type": "execute_result"
    }
   ],
   "source": [
    "tweets[0]"
   ]
  },
  {
   "cell_type": "code",
   "execution_count": 4,
   "metadata": {},
   "outputs": [
    {
     "name": "stdout",
     "output_type": "stream",
     "text": [
      "[ 0.47685  -0.084552  1.4641    0.047017  0.14686   0.5082   -1.2228\n",
      " -0.22607   0.19306  -0.29756   0.20599  -0.71284  -1.6288    0.17096\n",
      "  0.74797  -0.061943 -0.65766   1.3786   -0.68043  -1.7551    0.58319\n",
      "  0.25157  -1.2114    0.81343   0.094825 -1.6819   -0.64498   0.6322\n",
      "  1.1211    0.16112   2.5379    0.24852  -0.26816   0.32818   1.2916\n",
      "  0.23548   0.61465  -0.1344   -0.13237   0.27398  -0.11821   0.1354\n",
      "  0.074306 -0.61951   0.45472  -0.30318  -0.21883  -0.56054   1.1177\n",
      " -0.36595 ]\n"
     ]
    }
   ],
   "source": [
    "# Create emedding_vector for each word from Glove\n",
    "\n",
    "f = open(\"glove.6B.50d.txt\", encoding=\"utf-8\")\n",
    "glove_emb = {}\n",
    "for line in f:\n",
    "    arr = line.split()\n",
    "    word = arr[0]\n",
    "    vect = np.asarray(arr[1:], dtype=\"float\")\n",
    "    glove_emb[word] = vect\n",
    "\n",
    "f.close()\n",
    "print(glove_emb['car'])"
   ]
  },
  {
   "cell_type": "code",
   "execution_count": 6,
   "metadata": {},
   "outputs": [],
   "source": [
    "re = RegexpTokenizer(\"[a-zA-Z]+\")\n",
    "sw = stopwords.words(\"english\")"
   ]
  },
  {
   "cell_type": "code",
   "execution_count": 7,
   "metadata": {},
   "outputs": [],
   "source": [
    "unique_vocab = {}\n",
    "ind = 1;\n",
    "weight = []\n",
    "X = tweets\n",
    "X_train = np.zeros((10000, 50))\n",
    "\n",
    "for i in range(X.shape[0]):\n",
    "    words = re.tokenize(X[i])\n",
    "    words = [w for w in words if w not in sw and len(w) > 2 and w in glove_emb]\n",
    "    \n",
    "    for j in range(min(len(words), 50)):\n",
    "        if words[j].lower() in unique_vocab:\n",
    "            X_train[i][j] = unique_vocab[words[j].lower()]\n",
    "            \n",
    "        else:\n",
    "            weight.append(glove_emb[words[j]])\n",
    "            X_train[i][j] = ind\n",
    "            unique_vocab[words[j].lower()] = ind\n",
    "            ind += 1"
   ]
  },
  {
   "cell_type": "code",
   "execution_count": 8,
   "metadata": {},
   "outputs": [
    {
     "data": {
      "text/plain": [
       "array([ 1.,  2.,  3.,  4.,  5.,  6.,  7.,  8.,  9., 10.,  2., 11.,  5.,\n",
       "       12., 13., 14.,  0.,  0.,  0.,  0.,  0.,  0.,  0.,  0.,  0.,  0.,\n",
       "        0.,  0.,  0.,  0.,  0.,  0.,  0.,  0.,  0.,  0.,  0.,  0.,  0.,\n",
       "        0.,  0.,  0.,  0.,  0.,  0.,  0.,  0.,  0.,  0.,  0.])"
      ]
     },
     "execution_count": 8,
     "metadata": {},
     "output_type": "execute_result"
    }
   ],
   "source": [
    "X_train[0]"
   ]
  },
  {
   "cell_type": "code",
   "execution_count": 9,
   "metadata": {},
   "outputs": [],
   "source": [
    "wt_mat = [np.zeros((50,))] + weight\n",
    "wt_mat = np.array(wt_mat)"
   ]
  },
  {
   "cell_type": "code",
   "execution_count": 10,
   "metadata": {},
   "outputs": [
    {
     "name": "stdout",
     "output_type": "stream",
     "text": [
      "(4185, 50)\n"
     ]
    }
   ],
   "source": [
    "print(wt_mat.shape)"
   ]
  },
  {
   "cell_type": "code",
   "execution_count": 11,
   "metadata": {
    "scrolled": true
   },
   "outputs": [],
   "source": [
    "le=LabelEncoder()\n",
    "y_enc = le.fit_transform(sent)\n",
    "\n",
    "Y = to_categorical(y_enc)"
   ]
  },
  {
   "cell_type": "code",
   "execution_count": 12,
   "metadata": {},
   "outputs": [
    {
     "name": "stdout",
     "output_type": "stream",
     "text": [
      "[15. 16. 17. 18. 19. 20. 21. 16. 22. 23. 24. 25. 26. 27. 28. 29. 30. 31.\n",
      "  0.  0.  0.  0.  0.  0.  0.  0.  0.  0.  0.  0.  0.  0.  0.  0.  0.  0.\n",
      "  0.  0.  0.  0.  0.  0.  0.  0.  0.  0.  0.  0.  0.  0.] [0. 1. 0.]\n"
     ]
    }
   ],
   "source": [
    "print(X_train[1], Y[1])"
   ]
  },
  {
   "cell_type": "code",
   "execution_count": 13,
   "metadata": {},
   "outputs": [
    {
     "name": "stdout",
     "output_type": "stream",
     "text": [
      "Model: \"sequential\"\n",
      "_________________________________________________________________\n",
      "Layer (type)                 Output Shape              Param #   \n",
      "=================================================================\n",
      "embedding (Embedding)        (None, 50, 50)            209250    \n",
      "_________________________________________________________________\n",
      "lstm (LSTM)                  (None, 50, 32)            10624     \n",
      "_________________________________________________________________\n",
      "dropout (Dropout)            (None, 50, 32)            0         \n",
      "_________________________________________________________________\n",
      "lstm_1 (LSTM)                (None, 32)                8320      \n",
      "_________________________________________________________________\n",
      "dropout_1 (Dropout)          (None, 32)                0         \n",
      "_________________________________________________________________\n",
      "dense (Dense)                (None, 3)                 99        \n",
      "=================================================================\n",
      "Total params: 228,293\n",
      "Trainable params: 19,043\n",
      "Non-trainable params: 209,250\n",
      "_________________________________________________________________\n"
     ]
    }
   ],
   "source": [
    "# Create LSTM model\n",
    "\n",
    "model = Sequential()\n",
    "model.add(Embedding(4185, 50, mask_zero=True, weights=[wt_mat], input_length=50, trainable=False))\n",
    "model.add(LSTM(32, return_sequences=True, activation='relu'))\n",
    "model.add(Dropout(0.25))\n",
    "model.add(LSTM(32, activation='relu'))\n",
    "model.add(Dropout(0.2))\n",
    "model.add(Dense(3, activation='softmax'))\n",
    "\n",
    "model.compile(optimizer='adam', loss='categorical_crossentropy', metrics=['acc'])\n",
    "model.summary()"
   ]
  },
  {
   "cell_type": "code",
   "execution_count": 14,
   "metadata": {},
   "outputs": [
    {
     "name": "stdout",
     "output_type": "stream",
     "text": [
      "Epoch 1/20\n",
      "250/250 [==============================] - 9s 35ms/step - loss: 0.6709 - acc: 0.7168 - val_loss: 0.7567 - val_acc: 0.6875\n",
      "Epoch 2/20\n",
      "250/250 [==============================] - 8s 34ms/step - loss: 0.5312 - acc: 0.7831 - val_loss: 0.6597 - val_acc: 0.7460\n",
      "Epoch 3/20\n",
      "250/250 [==============================] - 8s 32ms/step - loss: 0.4807 - acc: 0.8035 - val_loss: 0.6299 - val_acc: 0.7420\n",
      "Epoch 4/20\n",
      "250/250 [==============================] - 8s 33ms/step - loss: 0.4482 - acc: 0.8149 - val_loss: 0.6297 - val_acc: 0.7365\n",
      "Epoch 5/20\n",
      "250/250 [==============================] - 9s 34ms/step - loss: 0.4252 - acc: 0.8271 - val_loss: 0.6189 - val_acc: 0.7535\n",
      "Epoch 6/20\n",
      "250/250 [==============================] - 9s 35ms/step - loss: 0.4057 - acc: 0.8338 - val_loss: 0.6361 - val_acc: 0.7655\n",
      "Epoch 7/20\n",
      "250/250 [==============================] - 9s 37ms/step - loss: 0.3809 - acc: 0.8454 - val_loss: 0.5997 - val_acc: 0.7580\n",
      "Epoch 8/20\n",
      "250/250 [==============================] - 9s 35ms/step - loss: 0.3698 - acc: 0.8484 - val_loss: 0.6552 - val_acc: 0.7700\n",
      "Epoch 9/20\n",
      "250/250 [==============================] - 9s 36ms/step - loss: 0.3540 - acc: 0.8562 - val_loss: 0.6646 - val_acc: 0.7650\n",
      "Epoch 10/20\n",
      "250/250 [==============================] - 9s 35ms/step - loss: 0.3415 - acc: 0.8615 - val_loss: 0.6856 - val_acc: 0.7660\n",
      "Epoch 11/20\n",
      "250/250 [==============================] - 9s 36ms/step - loss: 0.3297 - acc: 0.8660 - val_loss: 0.6847 - val_acc: 0.7625\n",
      "Epoch 12/20\n",
      "250/250 [==============================] - 9s 36ms/step - loss: 0.3172 - acc: 0.8729 - val_loss: 0.7424 - val_acc: 0.7725\n",
      "Epoch 13/20\n",
      "250/250 [==============================] - 8s 34ms/step - loss: 0.3215 - acc: 0.8735 - val_loss: 0.6404 - val_acc: 0.7650\n",
      "Epoch 14/20\n",
      "250/250 [==============================] - 8s 33ms/step - loss: 0.3027 - acc: 0.8783 - val_loss: 0.6864 - val_acc: 0.7655\n",
      "Epoch 15/20\n",
      "250/250 [==============================] - 9s 34ms/step - loss: 0.2905 - acc: 0.8844 - val_loss: 0.7458 - val_acc: 0.7590\n",
      "Epoch 16/20\n",
      "250/250 [==============================] - 8s 33ms/step - loss: 0.2807 - acc: 0.8879 - val_loss: 0.7050 - val_acc: 0.7750\n",
      "Epoch 17/20\n",
      "250/250 [==============================] - 9s 34ms/step - loss: 0.2752 - acc: 0.8889 - val_loss: 0.7193 - val_acc: 0.7690\n",
      "Epoch 18/20\n",
      "250/250 [==============================] - 8s 33ms/step - loss: 0.2724 - acc: 0.8881 - val_loss: 0.7125 - val_acc: 0.7760\n",
      "Epoch 19/20\n",
      "250/250 [==============================] - 8s 33ms/step - loss: 0.2592 - acc: 0.8932 - val_loss: 0.7228 - val_acc: 0.7750\n",
      "Epoch 20/20\n",
      "250/250 [==============================] - 8s 34ms/step - loss: 0.2651 - acc: 0.8925 - val_loss: 0.7196 - val_acc: 0.7820\n"
     ]
    }
   ],
   "source": [
    "# Train model\n",
    "\n",
    "hist = model.fit(X_train, Y, validation_split=0.2, epochs=20, batch_size=32)"
   ]
  },
  {
   "cell_type": "code",
   "execution_count": 15,
   "metadata": {},
   "outputs": [
    {
     "data": {
      "image/png": "[encoded data removed]",
      "text/plain": [
       "<Figure size 432x288 with 1 Axes>"
      ]
     },
     "metadata": {
      "needs_background": "light"
     },
     "output_type": "display_data"
    }
   ],
   "source": [
    "plt.plot(hist.history['acc'], color='b')\n",
    "plt.plot(hist.history['val_acc'], color='g')\n",
    "plt.show()"
   ]
  },
  {
   "cell_type": "code",
   "execution_count": 18,
   "metadata": {},
   "outputs": [
    {
     "name": "stdout",
     "output_type": "stream",
     "text": [
      "confusion matrix\n",
      "[[6168  414   17]\n",
      " [ 445 2439    8]\n",
      " [ 187   80  242]]\n"
     ]
    }
   ],
   "source": [
    "y_pred = model.predict_classes(X_train)\n",
    "print('confusion matrix')\n",
    "print(confusion_matrix(y_enc, y_pred))"
   ]
  },
  {
   "cell_type": "code",
   "execution_count": null,
   "metadata": {},
   "outputs": [],
   "source": []
  },
  {
   "cell_type": "code",
   "execution_count": null,
   "metadata": {},
   "outputs": [],
   "source": []
  }
 ],
 "metadata": {
  "kernelspec": {
   "display_name": "Python 3",
   "language": "python",
   "name": "python3"
  },
  "language_info": {
   "codemirror_mode": {
    "name": "ipython",
    "version": 3
   },
   "file_extension": ".py",
   "mimetype": "text/x-python",
   "name": "python",
   "nbconvert_exporter": "python",
   "pygments_lexer": "ipython3",
   "version": "3.7.6"
  }
 },
 "nbformat": 4,
 "nbformat_minor": 4
}
