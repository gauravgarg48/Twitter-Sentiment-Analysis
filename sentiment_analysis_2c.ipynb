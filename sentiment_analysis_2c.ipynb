{
 "cells": [
  {
   "cell_type": "code",
   "execution_count": 1,
   "metadata": {},
   "outputs": [],
   "source": [
    "import numpy as np\n",
    "import matplotlib.pyplot as plt\n",
    "import pandas as pd\n",
    "from collections import Counter\n",
    "from sklearn.preprocessing import LabelEncoder\n",
    "from sklearn.metrics import confusion_matrix\n",
    "\n",
    "from nltk.tokenize import RegexpTokenizer\n",
    "from nltk.corpus import stopwords\n",
    "\n",
    "from keras.utils import to_categorical\n",
    "from keras.models import Sequential\n",
    "from keras.layers import *\n",
    "from keras.preprocessing.sequence import pad_sequences"
   ]
  },
  {
   "cell_type": "code",
   "execution_count": 2,
   "metadata": {},
   "outputs": [],
   "source": [
    "# Import tweets and sentiment data\n",
    "\n",
    "dataset = pd.read_excel('sample_tweets.xlsx')\n",
    "dataset = dataset[dataset['Sentiment'] != 'Neutral']\n",
    "\n",
    "tweets = dataset['SentimentText'].values\n",
    "sent = dataset['Sentiment'].values"
   ]
  },
  {
   "cell_type": "code",
   "execution_count": 3,
   "metadata": {},
   "outputs": [
    {
     "name": "stdout",
     "output_type": "stream",
     "text": [
      "(7108,) (7108,)\n"
     ]
    }
   ],
   "source": [
    "print(tweets.shape, sent.shape)"
   ]
  },
  {
   "cell_type": "code",
   "execution_count": 4,
   "metadata": {},
   "outputs": [
    {
     "data": {
      "text/plain": [
       "\"#gstnfailed @nsitharaman .. Such a bold step.. Made by extending 3 days.. Now v know.. V should never vote & give majority to @BJP4India @PMOIndia .. Such a foolish step.. Really saddened to know.. Dat u don't understand d stress. of GST professionals..\""
      ]
     },
     "execution_count": 4,
     "metadata": {},
     "output_type": "execute_result"
    }
   ],
   "source": [
    "tweets[0]"
   ]
  },
  {
   "cell_type": "code",
   "execution_count": 5,
   "metadata": {},
   "outputs": [
    {
     "name": "stdout",
     "output_type": "stream",
     "text": [
      "[ 0.47685  -0.084552  1.4641    0.047017  0.14686   0.5082   -1.2228\n",
      " -0.22607   0.19306  -0.29756   0.20599  -0.71284  -1.6288    0.17096\n",
      "  0.74797  -0.061943 -0.65766   1.3786   -0.68043  -1.7551    0.58319\n",
      "  0.25157  -1.2114    0.81343   0.094825 -1.6819   -0.64498   0.6322\n",
      "  1.1211    0.16112   2.5379    0.24852  -0.26816   0.32818   1.2916\n",
      "  0.23548   0.61465  -0.1344   -0.13237   0.27398  -0.11821   0.1354\n",
      "  0.074306 -0.61951   0.45472  -0.30318  -0.21883  -0.56054   1.1177\n",
      " -0.36595 ]\n"
     ]
    }
   ],
   "source": [
    "# Create emedding_vector for each word from Glove\n",
    "\n",
    "f = open(\"glove.6B.50d.txt\", encoding=\"utf-8\")\n",
    "glove_emb = {}\n",
    "for line in f:\n",
    "    arr = line.split()\n",
    "    word = arr[0]\n",
    "    vect = np.asarray(arr[1:], dtype=\"float\")\n",
    "    glove_emb[word] = vect\n",
    "\n",
    "f.close()\n",
    "print(glove_emb['car'])"
   ]
  },
  {
   "cell_type": "code",
   "execution_count": 6,
   "metadata": {},
   "outputs": [],
   "source": [
    "re = RegexpTokenizer(\"[a-zA-Z]+\")\n",
    "sw = stopwords.words(\"english\")"
   ]
  },
  {
   "cell_type": "code",
   "execution_count": 7,
   "metadata": {},
   "outputs": [],
   "source": [
    "unique_vocab = {}\n",
    "ind = 1;\n",
    "weight = []\n",
    "X = tweets\n",
    "X_train = np.zeros((X.shape[0], 50))\n",
    "\n",
    "for i in range(X.shape[0]):\n",
    "    words = re.tokenize(X[i])\n",
    "    words = [w for w in words if w not in sw and len(w) > 2 and w in glove_emb]\n",
    "    \n",
    "    for j in range(min(len(words), 50)):\n",
    "        if words[j].lower() in unique_vocab:\n",
    "            X_train[i][j] = unique_vocab[words[j].lower()]\n",
    "            \n",
    "        else:\n",
    "            weight.append(glove_emb[words[j]])\n",
    "            X_train[i][j] = ind\n",
    "            unique_vocab[words[j].lower()] = ind\n",
    "            ind += 1"
   ]
  },
  {
   "cell_type": "code",
   "execution_count": 8,
   "metadata": {},
   "outputs": [
    {
     "data": {
      "text/plain": [
       "array([ 1.,  2.,  3.,  4.,  5.,  6.,  7.,  8.,  9., 10.,  2., 11.,  5.,\n",
       "       12., 13., 14.,  0.,  0.,  0.,  0.,  0.,  0.,  0.,  0.,  0.,  0.,\n",
       "        0.,  0.,  0.,  0.,  0.,  0.,  0.,  0.,  0.,  0.,  0.,  0.,  0.,\n",
       "        0.,  0.,  0.,  0.,  0.,  0.,  0.,  0.,  0.,  0.,  0.])"
      ]
     },
     "execution_count": 8,
     "metadata": {},
     "output_type": "execute_result"
    }
   ],
   "source": [
    "X_train[0]"
   ]
  },
  {
   "cell_type": "code",
   "execution_count": 9,
   "metadata": {},
   "outputs": [],
   "source": [
    "wt_mat = [np.zeros((50,))] + weight\n",
    "wt_mat = np.array(wt_mat)"
   ]
  },
  {
   "cell_type": "code",
   "execution_count": 10,
   "metadata": {},
   "outputs": [
    {
     "name": "stdout",
     "output_type": "stream",
     "text": [
      "(3679, 50)\n"
     ]
    }
   ],
   "source": [
    "print(wt_mat.shape)"
   ]
  },
  {
   "cell_type": "code",
   "execution_count": 11,
   "metadata": {
    "scrolled": true
   },
   "outputs": [],
   "source": [
    "le=LabelEncoder()\n",
    "Y = le.fit_transform(sent)"
   ]
  },
  {
   "cell_type": "code",
   "execution_count": 12,
   "metadata": {},
   "outputs": [
    {
     "name": "stdout",
     "output_type": "stream",
     "text": [
      "[15. 16. 17. 18. 19. 20. 21. 15. 22.  0.  0.  0.  0.  0.  0.  0.  0.  0.\n",
      "  0.  0.  0.  0.  0.  0.  0.  0.  0.  0.  0.  0.  0.  0.  0.  0.  0.  0.\n",
      "  0.  0.  0.  0.  0.  0.  0.  0.  0.  0.  0.  0.  0.  0.] 0\n",
      "(7108, 50) (7108,)\n"
     ]
    }
   ],
   "source": [
    "print(X_train[1], Y[1])\n",
    "print(X_train.shape, Y.shape)"
   ]
  },
  {
   "cell_type": "code",
   "execution_count": 15,
   "metadata": {},
   "outputs": [
    {
     "name": "stdout",
     "output_type": "stream",
     "text": [
      "Model: \"sequential_1\"\n",
      "_________________________________________________________________\n",
      "Layer (type)                 Output Shape              Param #   \n",
      "=================================================================\n",
      "embedding_1 (Embedding)      (None, 50, 50)            183950    \n",
      "_________________________________________________________________\n",
      "lstm_2 (LSTM)                (None, 50, 32)            10624     \n",
      "_________________________________________________________________\n",
      "dropout_2 (Dropout)          (None, 50, 32)            0         \n",
      "_________________________________________________________________\n",
      "lstm_3 (LSTM)                (None, 32)                8320      \n",
      "_________________________________________________________________\n",
      "dropout_3 (Dropout)          (None, 32)                0         \n",
      "_________________________________________________________________\n",
      "dense_1 (Dense)              (None, 1)                 33        \n",
      "=================================================================\n",
      "Total params: 202,927\n",
      "Trainable params: 18,977\n",
      "Non-trainable params: 183,950\n",
      "_________________________________________________________________\n"
     ]
    }
   ],
   "source": [
    "# Create LSTM model\n",
    "\n",
    "model = Sequential()\n",
    "model.add(Embedding(3679, 50, mask_zero=True, weights=[wt_mat], input_length=50, trainable=False))\n",
    "model.add(LSTM(32, return_sequences=True, activation='relu'))\n",
    "model.add(Dropout(0.3))\n",
    "model.add(LSTM(32, activation='relu'))\n",
    "model.add(Dropout(0.25))\n",
    "model.add(Dense(1, activation='sigmoid'))\n",
    "\n",
    "model.compile(optimizer='adam', loss='binary_crossentropy', metrics=['acc'])\n",
    "model.summary()"
   ]
  },
  {
   "cell_type": "code",
   "execution_count": 16,
   "metadata": {},
   "outputs": [
    {
     "name": "stdout",
     "output_type": "stream",
     "text": [
      "Epoch 1/16\n",
      "178/178 [==============================] - 8s 47ms/step - loss: 0.2483 - acc: 0.9316 - val_loss: 0.2851 - val_acc: 0.9100\n",
      "Epoch 2/16\n",
      "178/178 [==============================] - 8s 46ms/step - loss: 0.1930 - acc: 0.9330 - val_loss: 0.3026 - val_acc: 0.9100\n",
      "Epoch 3/16\n",
      "178/178 [==============================] - 8s 45ms/step - loss: 0.1714 - acc: 0.9344 - val_loss: 0.3071 - val_acc: 0.9156\n",
      "Epoch 4/16\n",
      "178/178 [==============================] - 8s 44ms/step - loss: 0.1642 - acc: 0.9388 - val_loss: 0.3031 - val_acc: 0.9128\n",
      "Epoch 5/16\n",
      "178/178 [==============================] - 8s 44ms/step - loss: 0.1522 - acc: 0.9413 - val_loss: 0.3366 - val_acc: 0.9198\n",
      "Epoch 6/16\n",
      "178/178 [==============================] - 8s 46ms/step - loss: 0.1455 - acc: 0.9421 - val_loss: 0.3319 - val_acc: 0.9177\n",
      "Epoch 7/16\n",
      "178/178 [==============================] - 9s 50ms/step - loss: 0.1346 - acc: 0.9455 - val_loss: 0.4399 - val_acc: 0.9212\n",
      "Epoch 8/16\n",
      "178/178 [==============================] - 8s 45ms/step - loss: 0.1258 - acc: 0.9483 - val_loss: 0.3476 - val_acc: 0.9184\n",
      "Epoch 9/16\n",
      "178/178 [==============================] - 8s 46ms/step - loss: 0.1758 - acc: 0.9479 - val_loss: 0.3112 - val_acc: 0.9100\n",
      "Epoch 10/16\n",
      "178/178 [==============================] - 8s 47ms/step - loss: 0.1371 - acc: 0.9421 - val_loss: 0.3923 - val_acc: 0.9177\n",
      "Epoch 11/16\n",
      "178/178 [==============================] - 8s 45ms/step - loss: 0.1977 - acc: 0.9444 - val_loss: 0.3236 - val_acc: 0.9170\n",
      "Epoch 12/16\n",
      "178/178 [==============================] - 9s 48ms/step - loss: 0.1323 - acc: 0.9455 - val_loss: 0.3162 - val_acc: 0.9163\n",
      "Epoch 13/16\n",
      "178/178 [==============================] - 9s 48ms/step - loss: 0.1259 - acc: 0.9478 - val_loss: 0.3433 - val_acc: 0.9177\n",
      "Epoch 14/16\n",
      "178/178 [==============================] - 8s 47ms/step - loss: 0.1219 - acc: 0.9502 - val_loss: 0.3531 - val_acc: 0.9184\n",
      "Epoch 15/16\n",
      "178/178 [==============================] - 8s 44ms/step - loss: 0.1141 - acc: 0.9516 - val_loss: 0.3738 - val_acc: 0.9149\n",
      "Epoch 16/16\n",
      "178/178 [==============================] - 8s 44ms/step - loss: 0.1109 - acc: 0.9529 - val_loss: 0.4220 - val_acc: 0.9177\n"
     ]
    }
   ],
   "source": [
    "# Train model\n",
    "\n",
    "hist = model.fit(X_train, Y, validation_split=0.2, epochs=16, batch_size=32)"
   ]
  },
  {
   "cell_type": "code",
   "execution_count": 17,
   "metadata": {},
   "outputs": [
    {
     "data": {
      "image/png": "[encoded data removed]",
      "text/plain": [
       "<Figure size 432x288 with 1 Axes>"
      ]
     },
     "metadata": {
      "needs_background": "light"
     },
     "output_type": "display_data"
    }
   ],
   "source": [
    "plt.plot(hist.history['acc'], color='b')\n",
    "plt.plot(hist.history['val_acc'], color='g')\n",
    "plt.show()"
   ]
  },
  {
   "cell_type": "code",
   "execution_count": 19,
   "metadata": {},
   "outputs": [],
   "source": [
    "y_pred = model.predict_classes(X_train)"
   ]
  },
  {
   "cell_type": "code",
   "execution_count": 20,
   "metadata": {},
   "outputs": [
    {
     "name": "stdout",
     "output_type": "stream",
     "text": [
      "confusion matrix\n",
      "[[6582   17]\n",
      " [ 353  156]]\n"
     ]
    }
   ],
   "source": [
    "print('confusion matrix')\n",
    "print(confusion_matrix(Y, y_pred))"
   ]
  },
  {
   "cell_type": "code",
   "execution_count": null,
   "metadata": {},
   "outputs": [],
   "source": []
  }
 ],
 "metadata": {
  "kernelspec": {
   "display_name": "Python 3",
   "language": "python",
   "name": "python3"
  },
  "language_info": {
   "codemirror_mode": {
    "name": "ipython",
    "version": 3
   },
   "file_extension": ".py",
   "mimetype": "text/x-python",
   "name": "python",
   "nbconvert_exporter": "python",
   "pygments_lexer": "ipython3",
   "version": "3.7.6"
  }
 },
 "nbformat": 4,
 "nbformat_minor": 4
}
